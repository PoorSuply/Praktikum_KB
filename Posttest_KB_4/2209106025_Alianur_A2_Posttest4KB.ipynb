{
 "cells": [
  {
   "cell_type": "markdown",
   "metadata": {},
   "source": [
    "# Mengimport Library Pandas sebagai variabel pd"
   ]
  },
  {
   "cell_type": "code",
   "execution_count": 26,
   "metadata": {},
   "outputs": [],
   "source": [
    "import pandas as pd"
   ]
  },
  {
   "cell_type": "markdown",
   "metadata": {},
   "source": [
    "# Read file CSV kedalam variabel df"
   ]
  },
  {
   "cell_type": "code",
   "execution_count": 27,
   "metadata": {},
   "outputs": [],
   "source": [
    "df = pd.read_csv(\"large_data.csv\")"
   ]
  },
  {
   "cell_type": "markdown",
   "metadata": {},
   "source": [
    "# Membagi Dataset menjadi training set dan testing set dengan proporsi 70:30"
   ]
  },
  {
   "cell_type": "markdown",
   "metadata": {},
   "source": [
    "##### Mengimport train_test_split dari Library Sklearn untuk membagi data menjadi train set dan test set"
   ]
  },
  {
   "cell_type": "code",
   "execution_count": 28,
   "metadata": {},
   "outputs": [],
   "source": [
    "from sklearn.model_selection import train_test_split"
   ]
  },
  {
   "cell_type": "markdown",
   "metadata": {},
   "source": [
    "# DATA SPLIT"
   ]
  },
  {
   "cell_type": "markdown",
   "metadata": {},
   "source": [
    "##### untuk mengubah proporsi menjadi 70:30, isi test_size menjadi 0.3 "
   ]
  },
  {
   "cell_type": "code",
   "execution_count": 29,
   "metadata": {},
   "outputs": [],
   "source": [
    "x = df.drop('TYPE', axis=1)\n",
    "y = df['TYPE']\n",
    "x_train, x_test, y_train, y_test = train_test_split(x, y, test_size=0.3)"
   ]
  },
  {
   "cell_type": "markdown",
   "metadata": {},
   "source": [
    "##### Melihat dimensi atau bentuk dari training set dan test set"
   ]
  },
  {
   "cell_type": "code",
   "execution_count": 30,
   "metadata": {},
   "outputs": [
    {
     "name": "stdout",
     "output_type": "stream",
     "text": [
      "dimensi x_train =  (31117, 20)\n",
      "dimensi x_test =  (13336, 20)\n",
      "dimensi y_train =  (31117,)\n",
      "dimensi y_test =  (13336,)\n"
     ]
    }
   ],
   "source": [
    "print(\"dimensi x_train = \", x_train.shape)\n",
    "print(\"dimensi x_test = \", x_test.shape)\n",
    "print(\"dimensi y_train = \", y_train.shape)\n",
    "print(\"dimensi y_test = \", y_test.shape)"
   ]
  },
  {
   "cell_type": "markdown",
   "metadata": {},
   "source": [
    "# Normalisasi"
   ]
  },
  {
   "cell_type": "markdown",
   "metadata": {},
   "source": [
    "##### Mengimport fungsi Min Max scaler untuk normalisasi"
   ]
  },
  {
   "cell_type": "code",
   "execution_count": 31,
   "metadata": {},
   "outputs": [],
   "source": [
    "from sklearn.preprocessing import MinMaxScaler"
   ]
  },
  {
   "cell_type": "markdown",
   "metadata": {},
   "source": [
    "##### Copy datset"
   ]
  },
  {
   "cell_type": "code",
   "execution_count": 32,
   "metadata": {},
   "outputs": [],
   "source": [
    "df_nor = df.copy()"
   ]
  },
  {
   "cell_type": "markdown",
   "metadata": {},
   "source": [
    "##### Normalisasi attribut \"COUGH\" menggunakan Min Max sclaer"
   ]
  },
  {
   "cell_type": "code",
   "execution_count": 33,
   "metadata": {},
   "outputs": [],
   "source": [
    "scaler = MinMaxScaler()\n",
    "scaled_data = scaler.fit_transform(df_nor[['COUGH']])\n",
    "df_nor['COUGH'] = scaled_data"
   ]
  },
  {
   "cell_type": "markdown",
   "metadata": {},
   "source": [
    "##### Menampilkan hasil setelah normalisasi"
   ]
  },
  {
   "cell_type": "code",
   "execution_count": 34,
   "metadata": {},
   "outputs": [
    {
     "name": "stdout",
     "output_type": "stream",
     "text": [
      "SEBELUM: \n",
      "count    44453.000000\n",
      "mean         0.520662\n",
      "std          0.499579\n",
      "min          0.000000\n",
      "25%          0.000000\n",
      "50%          1.000000\n",
      "75%          1.000000\n",
      "max          1.000000\n",
      "Name: COUGH, dtype: float64 \n",
      "\n",
      "\n",
      "SESUDAH: \n",
      "count    44453.000000\n",
      "mean         0.520662\n",
      "std          0.499579\n",
      "min          0.000000\n",
      "25%          0.000000\n",
      "50%          1.000000\n",
      "75%          1.000000\n",
      "max          1.000000\n",
      "Name: COUGH, dtype: float64\n"
     ]
    }
   ],
   "source": [
    "print(\"SEBELUM: \")\n",
    "print(df ['COUGH'].describe(),\"\\n\\n\")\n",
    "print(\"SESUDAH: \")\n",
    "print(df_nor['COUGH'].describe())"
   ]
  },
  {
   "cell_type": "markdown",
   "metadata": {},
   "source": [
    "# STANDARISASI"
   ]
  },
  {
   "cell_type": "markdown",
   "metadata": {},
   "source": [
    "##### Mengimport fungsi StandarScaler untuk standarisasi dan Library Numpy"
   ]
  },
  {
   "cell_type": "code",
   "execution_count": 35,
   "metadata": {},
   "outputs": [],
   "source": [
    "from sklearn.preprocessing import StandardScaler\n",
    "import numpy as np"
   ]
  },
  {
   "cell_type": "markdown",
   "metadata": {},
   "source": [
    "##### Standarisasi attribut \"COUGH\" "
   ]
  },
  {
   "cell_type": "code",
   "execution_count": 36,
   "metadata": {},
   "outputs": [],
   "source": [
    "df_stan = df.copy()\n",
    "scaler = StandardScaler()\n",
    "scaled_data = scaler.fit_transform(df_stan[['COUGH']])\n",
    "df_stan['COUGH'] = scaled_data"
   ]
  },
  {
   "cell_type": "markdown",
   "metadata": {},
   "source": [
    "##### Menampilkan hasil setelah standarisasi"
   ]
  },
  {
   "cell_type": "code",
   "execution_count": 37,
   "metadata": {},
   "outputs": [
    {
     "name": "stdout",
     "output_type": "stream",
     "text": [
      "Nilai standar Deviasi:\n",
      "SEBELUM : \n",
      "0.4995728880700168 \n",
      "\n",
      "SESUDAH: \n",
      "0.9999999999999998\n"
     ]
    }
   ],
   "source": [
    "print(\"Nilai standar Deviasi:\")\n",
    "print(\"SEBELUM : \")\n",
    "print(np.std(df['COUGH']),\"\\n\")\n",
    "print(\"SESUDAH: \")\n",
    "print(np.std(df_stan['COUGH']))"
   ]
  },
  {
   "cell_type": "markdown",
   "metadata": {},
   "source": [
    "# MENANGANI NILAI NULL"
   ]
  },
  {
   "cell_type": "markdown",
   "metadata": {},
   "source": [
    "#### 1. Menangani nilai Null pada attribut \"COUGH\" dengan tipe data INT menggunakan strategi MEDIAN"
   ]
  },
  {
   "cell_type": "markdown",
   "metadata": {},
   "source": [
    "##### Karena tidak ada nilai Null pada attribut \"COUGH\", maka buat nilai Null terlebih dahulu"
   ]
  },
  {
   "cell_type": "code",
   "execution_count": 38,
   "metadata": {},
   "outputs": [
    {
     "name": "stdout",
     "output_type": "stream",
     "text": [
      "Nilai Null Pada attribut COUGH:\n",
      "43453\n"
     ]
    }
   ],
   "source": [
    "df_null = df.copy()\n",
    "\n",
    "df_null.loc[1000:,'COUGH'] = np.nan\n",
    "df.loc[1000:, 'COUGH'] = np.nan\n",
    "print(\"Nilai Null Pada attribut COUGH:\")\n",
    "print(df_null['COUGH'].isna().sum())"
   ]
  },
  {
   "cell_type": "markdown",
   "metadata": {},
   "source": [
    "##### Menangani Nilai Null"
   ]
  },
  {
   "cell_type": "code",
   "execution_count": 39,
   "metadata": {},
   "outputs": [],
   "source": [
    "df_null['COUGH'].fillna(df_null['COUGH'].median(), inplace= True)"
   ]
  },
  {
   "cell_type": "markdown",
   "metadata": {},
   "source": [
    "#### 2. Menangani nilai Null pada attribut \"TYPE\" dengan type OBJECT menggunakan strategi MODUS"
   ]
  },
  {
   "cell_type": "markdown",
   "metadata": {},
   "source": [
    "##### Menambahkan nilai Null pada attribut \"TYPE\""
   ]
  },
  {
   "cell_type": "code",
   "execution_count": 40,
   "metadata": {},
   "outputs": [
    {
     "name": "stdout",
     "output_type": "stream",
     "text": [
      "Nilai Null Pada attribut TYPE:\n",
      "43453\n"
     ]
    }
   ],
   "source": [
    "df_null.loc[1000:,'TYPE'] = np.nan\n",
    "df.loc[1000:, 'TYPE'] = np.nan\n",
    "print(\"Nilai Null Pada attribut TYPE:\")\n",
    "print(df_null['TYPE'].isna().sum())"
   ]
  },
  {
   "cell_type": "markdown",
   "metadata": {},
   "source": [
    "##### Menangani nilai Null Pada attribut \"TYPE\""
   ]
  },
  {
   "cell_type": "code",
   "execution_count": 41,
   "metadata": {},
   "outputs": [],
   "source": [
    "df_null['TYPE'].fillna(df_null['TYPE'].mode()[0], inplace= True)"
   ]
  },
  {
   "cell_type": "markdown",
   "metadata": {},
   "source": [
    "##### Menampilkan nilai sesudah dan sebelum menangani nilai Null"
   ]
  },
  {
   "cell_type": "markdown",
   "metadata": {},
   "source": [
    "##### SEBELUM"
   ]
  },
  {
   "cell_type": "code",
   "execution_count": 42,
   "metadata": {},
   "outputs": [
    {
     "data": {
      "text/plain": [
       "COUGH                   43453\n",
       "MUSCLE_ACHES                0\n",
       "TIREDNESS                   0\n",
       "SORE_THROAT                 0\n",
       "RUNNY_NOSE                  0\n",
       "STUFFY_NOSE                 0\n",
       "FEVER                       0\n",
       "NAUSEA                      0\n",
       "VOMITING                    0\n",
       "DIARRHEA                    0\n",
       "SHORTNESS_OF_BREATH         0\n",
       "DIFFICULTY_BREATHING        0\n",
       "LOSS_OF_TASTE               0\n",
       "LOSS_OF_SMELL               0\n",
       "ITCHY_NOSE                  0\n",
       "ITCHY_EYES                  0\n",
       "ITCHY_MOUTH                 0\n",
       "ITCHY_INNER_EAR             0\n",
       "SNEEZING                    0\n",
       "PINK_EYE                    0\n",
       "TYPE                    43453\n",
       "dtype: int64"
      ]
     },
     "execution_count": 42,
     "metadata": {},
     "output_type": "execute_result"
    }
   ],
   "source": [
    "df.isna().sum()"
   ]
  },
  {
   "cell_type": "markdown",
   "metadata": {},
   "source": [
    "##### SESUDAH"
   ]
  },
  {
   "cell_type": "code",
   "execution_count": 43,
   "metadata": {},
   "outputs": [
    {
     "data": {
      "text/plain": [
       "COUGH                   0\n",
       "MUSCLE_ACHES            0\n",
       "TIREDNESS               0\n",
       "SORE_THROAT             0\n",
       "RUNNY_NOSE              0\n",
       "STUFFY_NOSE             0\n",
       "FEVER                   0\n",
       "NAUSEA                  0\n",
       "VOMITING                0\n",
       "DIARRHEA                0\n",
       "SHORTNESS_OF_BREATH     0\n",
       "DIFFICULTY_BREATHING    0\n",
       "LOSS_OF_TASTE           0\n",
       "LOSS_OF_SMELL           0\n",
       "ITCHY_NOSE              0\n",
       "ITCHY_EYES              0\n",
       "ITCHY_MOUTH             0\n",
       "ITCHY_INNER_EAR         0\n",
       "SNEEZING                0\n",
       "PINK_EYE                0\n",
       "TYPE                    0\n",
       "dtype: int64"
      ]
     },
     "execution_count": 43,
     "metadata": {},
     "output_type": "execute_result"
    }
   ],
   "source": [
    "df_null.isna().sum()"
   ]
  },
  {
   "cell_type": "markdown",
   "metadata": {},
   "source": [
    "# MENANGANI NILAI DUPLIKAT"
   ]
  },
  {
   "cell_type": "markdown",
   "metadata": {},
   "source": [
    "##### Cek apakah ada nilai duplikat"
   ]
  },
  {
   "cell_type": "code",
   "execution_count": 44,
   "metadata": {},
   "outputs": [
    {
     "name": "stdout",
     "output_type": "stream",
     "text": [
      "Nilai Duplikat: \n"
     ]
    },
    {
     "data": {
      "text/plain": [
       "21309"
      ]
     },
     "execution_count": 44,
     "metadata": {},
     "output_type": "execute_result"
    }
   ],
   "source": [
    "print(\"Nilai Duplikat: \")\n",
    "df.duplicated().sum()"
   ]
  },
  {
   "cell_type": "markdown",
   "metadata": {},
   "source": [
    "##### Mengatasi nilai Duplikat"
   ]
  },
  {
   "cell_type": "code",
   "execution_count": 45,
   "metadata": {},
   "outputs": [
    {
     "name": "stdout",
     "output_type": "stream",
     "text": [
      "Nilai duplikat : \n"
     ]
    },
    {
     "data": {
      "text/plain": [
       "0"
      ]
     },
     "execution_count": 45,
     "metadata": {},
     "output_type": "execute_result"
    }
   ],
   "source": [
    "df_null.drop_duplicates(inplace=True)\n",
    "\n",
    "print(\"Nilai duplikat : \")\n",
    "df_null.duplicated().sum()"
   ]
  },
  {
   "cell_type": "markdown",
   "metadata": {},
   "source": [
    "# MENGGANTI TIPE DATA SALAH SATU ATTRIBUT YANG BERTIPE DATA ANGKA"
   ]
  },
  {
   "cell_type": "markdown",
   "metadata": {},
   "source": [
    "##### Cek attribut apa saja yang bertipe angka"
   ]
  },
  {
   "cell_type": "code",
   "execution_count": 46,
   "metadata": {},
   "outputs": [
    {
     "name": "stdout",
     "output_type": "stream",
     "text": [
      "<class 'pandas.core.frame.DataFrame'>\n",
      "RangeIndex: 44453 entries, 0 to 44452\n",
      "Data columns (total 21 columns):\n",
      " #   Column                Non-Null Count  Dtype  \n",
      "---  ------                --------------  -----  \n",
      " 0   COUGH                 1000 non-null   float64\n",
      " 1   MUSCLE_ACHES          44453 non-null  int64  \n",
      " 2   TIREDNESS             44453 non-null  int64  \n",
      " 3   SORE_THROAT           44453 non-null  int64  \n",
      " 4   RUNNY_NOSE            44453 non-null  int64  \n",
      " 5   STUFFY_NOSE           44453 non-null  int64  \n",
      " 6   FEVER                 44453 non-null  int64  \n",
      " 7   NAUSEA                44453 non-null  int64  \n",
      " 8   VOMITING              44453 non-null  int64  \n",
      " 9   DIARRHEA              44453 non-null  int64  \n",
      " 10  SHORTNESS_OF_BREATH   44453 non-null  int64  \n",
      " 11  DIFFICULTY_BREATHING  44453 non-null  int64  \n",
      " 12  LOSS_OF_TASTE         44453 non-null  int64  \n",
      " 13  LOSS_OF_SMELL         44453 non-null  int64  \n",
      " 14  ITCHY_NOSE            44453 non-null  int64  \n",
      " 15  ITCHY_EYES            44453 non-null  int64  \n",
      " 16  ITCHY_MOUTH           44453 non-null  int64  \n",
      " 17  ITCHY_INNER_EAR       44453 non-null  int64  \n",
      " 18  SNEEZING              44453 non-null  int64  \n",
      " 19  PINK_EYE              44453 non-null  int64  \n",
      " 20  TYPE                  1000 non-null   object \n",
      "dtypes: float64(1), int64(19), object(1)\n",
      "memory usage: 7.1+ MB\n"
     ]
    }
   ],
   "source": [
    "df.info()"
   ]
  },
  {
   "cell_type": "markdown",
   "metadata": {},
   "source": [
    "##### Mengubah Attribut \"FEVER\" menjadi bertipe data FLOAT"
   ]
  },
  {
   "cell_type": "code",
   "execution_count": 47,
   "metadata": {},
   "outputs": [],
   "source": [
    "df_null['FEVER'] = df_null['FEVER'].astype(float)"
   ]
  },
  {
   "cell_type": "markdown",
   "metadata": {},
   "source": [
    "##### SEBELUM"
   ]
  },
  {
   "cell_type": "code",
   "execution_count": 48,
   "metadata": {},
   "outputs": [
    {
     "data": {
      "text/plain": [
       "dtype('int64')"
      ]
     },
     "execution_count": 48,
     "metadata": {},
     "output_type": "execute_result"
    }
   ],
   "source": [
    "df['FEVER'].dtypes"
   ]
  },
  {
   "cell_type": "markdown",
   "metadata": {},
   "source": [
    "##### SESUDAH"
   ]
  },
  {
   "cell_type": "code",
   "execution_count": 49,
   "metadata": {},
   "outputs": [
    {
     "data": {
      "text/plain": [
       "dtype('float64')"
      ]
     },
     "execution_count": 49,
     "metadata": {},
     "output_type": "execute_result"
    }
   ],
   "source": [
    "df_null['FEVER'].dtypes"
   ]
  },
  {
   "cell_type": "markdown",
   "metadata": {},
   "source": [
    "# MELAKUKAN ONE HOT ENCODING"
   ]
  },
  {
   "cell_type": "markdown",
   "metadata": {},
   "source": [
    "##### Melakukan One Hot Encoding pada attribut \"TYPE\" menggunakan get_dummies dari Pandas"
   ]
  },
  {
   "cell_type": "code",
   "execution_count": 50,
   "metadata": {},
   "outputs": [
    {
     "data": {
      "text/html": [
       "<div>\n",
       "<style scoped>\n",
       "    .dataframe tbody tr th:only-of-type {\n",
       "        vertical-align: middle;\n",
       "    }\n",
       "\n",
       "    .dataframe tbody tr th {\n",
       "        vertical-align: top;\n",
       "    }\n",
       "\n",
       "    .dataframe thead th {\n",
       "        text-align: right;\n",
       "    }\n",
       "</style>\n",
       "<table border=\"1\" class=\"dataframe\">\n",
       "  <thead>\n",
       "    <tr style=\"text-align: right;\">\n",
       "      <th></th>\n",
       "      <th>COUGH</th>\n",
       "      <th>MUSCLE_ACHES</th>\n",
       "      <th>TIREDNESS</th>\n",
       "      <th>SORE_THROAT</th>\n",
       "      <th>RUNNY_NOSE</th>\n",
       "      <th>STUFFY_NOSE</th>\n",
       "      <th>FEVER</th>\n",
       "      <th>NAUSEA</th>\n",
       "      <th>VOMITING</th>\n",
       "      <th>DIARRHEA</th>\n",
       "      <th>...</th>\n",
       "      <th>LOSS_OF_TASTE</th>\n",
       "      <th>LOSS_OF_SMELL</th>\n",
       "      <th>ITCHY_NOSE</th>\n",
       "      <th>ITCHY_EYES</th>\n",
       "      <th>ITCHY_MOUTH</th>\n",
       "      <th>ITCHY_INNER_EAR</th>\n",
       "      <th>SNEEZING</th>\n",
       "      <th>PINK_EYE</th>\n",
       "      <th>TYPE</th>\n",
       "      <th>TYPE_ALLERGY</th>\n",
       "    </tr>\n",
       "  </thead>\n",
       "  <tbody>\n",
       "    <tr>\n",
       "      <th>0</th>\n",
       "      <td>0.0</td>\n",
       "      <td>0</td>\n",
       "      <td>1</td>\n",
       "      <td>0</td>\n",
       "      <td>1</td>\n",
       "      <td>0</td>\n",
       "      <td>0</td>\n",
       "      <td>0</td>\n",
       "      <td>0</td>\n",
       "      <td>0</td>\n",
       "      <td>...</td>\n",
       "      <td>1</td>\n",
       "      <td>0</td>\n",
       "      <td>1</td>\n",
       "      <td>0</td>\n",
       "      <td>0</td>\n",
       "      <td>1</td>\n",
       "      <td>0</td>\n",
       "      <td>1</td>\n",
       "      <td>ALLERGY</td>\n",
       "      <td>True</td>\n",
       "    </tr>\n",
       "    <tr>\n",
       "      <th>1</th>\n",
       "      <td>0.0</td>\n",
       "      <td>0</td>\n",
       "      <td>1</td>\n",
       "      <td>0</td>\n",
       "      <td>0</td>\n",
       "      <td>0</td>\n",
       "      <td>0</td>\n",
       "      <td>0</td>\n",
       "      <td>0</td>\n",
       "      <td>0</td>\n",
       "      <td>...</td>\n",
       "      <td>1</td>\n",
       "      <td>0</td>\n",
       "      <td>1</td>\n",
       "      <td>0</td>\n",
       "      <td>1</td>\n",
       "      <td>1</td>\n",
       "      <td>1</td>\n",
       "      <td>1</td>\n",
       "      <td>ALLERGY</td>\n",
       "      <td>True</td>\n",
       "    </tr>\n",
       "    <tr>\n",
       "      <th>2</th>\n",
       "      <td>0.0</td>\n",
       "      <td>1</td>\n",
       "      <td>1</td>\n",
       "      <td>1</td>\n",
       "      <td>0</td>\n",
       "      <td>0</td>\n",
       "      <td>0</td>\n",
       "      <td>0</td>\n",
       "      <td>0</td>\n",
       "      <td>0</td>\n",
       "      <td>...</td>\n",
       "      <td>1</td>\n",
       "      <td>0</td>\n",
       "      <td>1</td>\n",
       "      <td>0</td>\n",
       "      <td>0</td>\n",
       "      <td>0</td>\n",
       "      <td>0</td>\n",
       "      <td>1</td>\n",
       "      <td>ALLERGY</td>\n",
       "      <td>True</td>\n",
       "    </tr>\n",
       "    <tr>\n",
       "      <th>3</th>\n",
       "      <td>0.0</td>\n",
       "      <td>0</td>\n",
       "      <td>0</td>\n",
       "      <td>1</td>\n",
       "      <td>1</td>\n",
       "      <td>0</td>\n",
       "      <td>0</td>\n",
       "      <td>0</td>\n",
       "      <td>0</td>\n",
       "      <td>0</td>\n",
       "      <td>...</td>\n",
       "      <td>1</td>\n",
       "      <td>1</td>\n",
       "      <td>0</td>\n",
       "      <td>0</td>\n",
       "      <td>1</td>\n",
       "      <td>0</td>\n",
       "      <td>1</td>\n",
       "      <td>1</td>\n",
       "      <td>ALLERGY</td>\n",
       "      <td>True</td>\n",
       "    </tr>\n",
       "    <tr>\n",
       "      <th>4</th>\n",
       "      <td>0.0</td>\n",
       "      <td>0</td>\n",
       "      <td>1</td>\n",
       "      <td>0</td>\n",
       "      <td>1</td>\n",
       "      <td>0</td>\n",
       "      <td>0</td>\n",
       "      <td>0</td>\n",
       "      <td>0</td>\n",
       "      <td>0</td>\n",
       "      <td>...</td>\n",
       "      <td>1</td>\n",
       "      <td>1</td>\n",
       "      <td>0</td>\n",
       "      <td>1</td>\n",
       "      <td>0</td>\n",
       "      <td>1</td>\n",
       "      <td>1</td>\n",
       "      <td>1</td>\n",
       "      <td>ALLERGY</td>\n",
       "      <td>True</td>\n",
       "    </tr>\n",
       "    <tr>\n",
       "      <th>...</th>\n",
       "      <td>...</td>\n",
       "      <td>...</td>\n",
       "      <td>...</td>\n",
       "      <td>...</td>\n",
       "      <td>...</td>\n",
       "      <td>...</td>\n",
       "      <td>...</td>\n",
       "      <td>...</td>\n",
       "      <td>...</td>\n",
       "      <td>...</td>\n",
       "      <td>...</td>\n",
       "      <td>...</td>\n",
       "      <td>...</td>\n",
       "      <td>...</td>\n",
       "      <td>...</td>\n",
       "      <td>...</td>\n",
       "      <td>...</td>\n",
       "      <td>...</td>\n",
       "      <td>...</td>\n",
       "      <td>...</td>\n",
       "      <td>...</td>\n",
       "    </tr>\n",
       "    <tr>\n",
       "      <th>44448</th>\n",
       "      <td>NaN</td>\n",
       "      <td>0</td>\n",
       "      <td>0</td>\n",
       "      <td>1</td>\n",
       "      <td>0</td>\n",
       "      <td>0</td>\n",
       "      <td>1</td>\n",
       "      <td>0</td>\n",
       "      <td>1</td>\n",
       "      <td>1</td>\n",
       "      <td>...</td>\n",
       "      <td>0</td>\n",
       "      <td>0</td>\n",
       "      <td>0</td>\n",
       "      <td>0</td>\n",
       "      <td>0</td>\n",
       "      <td>0</td>\n",
       "      <td>1</td>\n",
       "      <td>0</td>\n",
       "      <td>NaN</td>\n",
       "      <td>False</td>\n",
       "    </tr>\n",
       "    <tr>\n",
       "      <th>44449</th>\n",
       "      <td>NaN</td>\n",
       "      <td>1</td>\n",
       "      <td>0</td>\n",
       "      <td>1</td>\n",
       "      <td>1</td>\n",
       "      <td>0</td>\n",
       "      <td>1</td>\n",
       "      <td>1</td>\n",
       "      <td>0</td>\n",
       "      <td>1</td>\n",
       "      <td>...</td>\n",
       "      <td>1</td>\n",
       "      <td>1</td>\n",
       "      <td>0</td>\n",
       "      <td>0</td>\n",
       "      <td>0</td>\n",
       "      <td>0</td>\n",
       "      <td>1</td>\n",
       "      <td>0</td>\n",
       "      <td>NaN</td>\n",
       "      <td>False</td>\n",
       "    </tr>\n",
       "    <tr>\n",
       "      <th>44450</th>\n",
       "      <td>NaN</td>\n",
       "      <td>0</td>\n",
       "      <td>1</td>\n",
       "      <td>0</td>\n",
       "      <td>1</td>\n",
       "      <td>0</td>\n",
       "      <td>0</td>\n",
       "      <td>0</td>\n",
       "      <td>1</td>\n",
       "      <td>1</td>\n",
       "      <td>...</td>\n",
       "      <td>1</td>\n",
       "      <td>0</td>\n",
       "      <td>0</td>\n",
       "      <td>0</td>\n",
       "      <td>0</td>\n",
       "      <td>0</td>\n",
       "      <td>1</td>\n",
       "      <td>0</td>\n",
       "      <td>NaN</td>\n",
       "      <td>False</td>\n",
       "    </tr>\n",
       "    <tr>\n",
       "      <th>44451</th>\n",
       "      <td>NaN</td>\n",
       "      <td>0</td>\n",
       "      <td>0</td>\n",
       "      <td>1</td>\n",
       "      <td>1</td>\n",
       "      <td>1</td>\n",
       "      <td>0</td>\n",
       "      <td>0</td>\n",
       "      <td>1</td>\n",
       "      <td>0</td>\n",
       "      <td>...</td>\n",
       "      <td>0</td>\n",
       "      <td>1</td>\n",
       "      <td>0</td>\n",
       "      <td>0</td>\n",
       "      <td>0</td>\n",
       "      <td>0</td>\n",
       "      <td>0</td>\n",
       "      <td>0</td>\n",
       "      <td>NaN</td>\n",
       "      <td>False</td>\n",
       "    </tr>\n",
       "    <tr>\n",
       "      <th>44452</th>\n",
       "      <td>NaN</td>\n",
       "      <td>1</td>\n",
       "      <td>0</td>\n",
       "      <td>0</td>\n",
       "      <td>0</td>\n",
       "      <td>1</td>\n",
       "      <td>0</td>\n",
       "      <td>0</td>\n",
       "      <td>1</td>\n",
       "      <td>0</td>\n",
       "      <td>...</td>\n",
       "      <td>0</td>\n",
       "      <td>1</td>\n",
       "      <td>0</td>\n",
       "      <td>0</td>\n",
       "      <td>0</td>\n",
       "      <td>0</td>\n",
       "      <td>0</td>\n",
       "      <td>0</td>\n",
       "      <td>NaN</td>\n",
       "      <td>False</td>\n",
       "    </tr>\n",
       "  </tbody>\n",
       "</table>\n",
       "<p>44453 rows × 22 columns</p>\n",
       "</div>"
      ],
      "text/plain": [
       "       COUGH  MUSCLE_ACHES  TIREDNESS  SORE_THROAT  RUNNY_NOSE  STUFFY_NOSE  \\\n",
       "0        0.0             0          1            0           1            0   \n",
       "1        0.0             0          1            0           0            0   \n",
       "2        0.0             1          1            1           0            0   \n",
       "3        0.0             0          0            1           1            0   \n",
       "4        0.0             0          1            0           1            0   \n",
       "...      ...           ...        ...          ...         ...          ...   \n",
       "44448    NaN             0          0            1           0            0   \n",
       "44449    NaN             1          0            1           1            0   \n",
       "44450    NaN             0          1            0           1            0   \n",
       "44451    NaN             0          0            1           1            1   \n",
       "44452    NaN             1          0            0           0            1   \n",
       "\n",
       "       FEVER  NAUSEA  VOMITING  DIARRHEA  ...  LOSS_OF_TASTE  LOSS_OF_SMELL  \\\n",
       "0          0       0         0         0  ...              1              0   \n",
       "1          0       0         0         0  ...              1              0   \n",
       "2          0       0         0         0  ...              1              0   \n",
       "3          0       0         0         0  ...              1              1   \n",
       "4          0       0         0         0  ...              1              1   \n",
       "...      ...     ...       ...       ...  ...            ...            ...   \n",
       "44448      1       0         1         1  ...              0              0   \n",
       "44449      1       1         0         1  ...              1              1   \n",
       "44450      0       0         1         1  ...              1              0   \n",
       "44451      0       0         1         0  ...              0              1   \n",
       "44452      0       0         1         0  ...              0              1   \n",
       "\n",
       "       ITCHY_NOSE  ITCHY_EYES  ITCHY_MOUTH  ITCHY_INNER_EAR  SNEEZING  \\\n",
       "0               1           0            0                1         0   \n",
       "1               1           0            1                1         1   \n",
       "2               1           0            0                0         0   \n",
       "3               0           0            1                0         1   \n",
       "4               0           1            0                1         1   \n",
       "...           ...         ...          ...              ...       ...   \n",
       "44448           0           0            0                0         1   \n",
       "44449           0           0            0                0         1   \n",
       "44450           0           0            0                0         1   \n",
       "44451           0           0            0                0         0   \n",
       "44452           0           0            0                0         0   \n",
       "\n",
       "       PINK_EYE     TYPE  TYPE_ALLERGY  \n",
       "0             1  ALLERGY          True  \n",
       "1             1  ALLERGY          True  \n",
       "2             1  ALLERGY          True  \n",
       "3             1  ALLERGY          True  \n",
       "4             1  ALLERGY          True  \n",
       "...         ...      ...           ...  \n",
       "44448         0      NaN         False  \n",
       "44449         0      NaN         False  \n",
       "44450         0      NaN         False  \n",
       "44451         0      NaN         False  \n",
       "44452         0      NaN         False  \n",
       "\n",
       "[44453 rows x 22 columns]"
      ]
     },
     "execution_count": 50,
     "metadata": {},
     "output_type": "execute_result"
    }
   ],
   "source": [
    "type = pd.get_dummies(df[['TYPE']])\n",
    "df=df.join(type)\n",
    "df"
   ]
  }
 ],
 "metadata": {
  "kernelspec": {
   "display_name": "Python 3",
   "language": "python",
   "name": "python3"
  },
  "language_info": {
   "codemirror_mode": {
    "name": "ipython",
    "version": 3
   },
   "file_extension": ".py",
   "mimetype": "text/x-python",
   "name": "python",
   "nbconvert_exporter": "python",
   "pygments_lexer": "ipython3",
   "version": "3.10.7"
  }
 },
 "nbformat": 4,
 "nbformat_minor": 2
}
