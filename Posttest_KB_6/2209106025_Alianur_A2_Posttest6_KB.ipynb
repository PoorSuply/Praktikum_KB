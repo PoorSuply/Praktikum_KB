{
 "cells": [
  {
   "cell_type": "markdown",
   "metadata": {},
   "source": [
    "# Import Library yang akan digunakan"
   ]
  },
  {
   "cell_type": "code",
   "execution_count": 195,
   "metadata": {},
   "outputs": [],
   "source": [
    "import pandas as pd\n",
    "import matplotlib.pyplot as plt\n",
    "import seaborn as sns\n",
    "import tensorflow as tf"
   ]
  },
  {
   "cell_type": "markdown",
   "metadata": {},
   "source": [
    "# Memuat dataset"
   ]
  },
  {
   "cell_type": "code",
   "execution_count": 196,
   "metadata": {},
   "outputs": [],
   "source": [
    "df = pd.read_csv(\"large_data.csv\")"
   ]
  },
  {
   "cell_type": "markdown",
   "metadata": {},
   "source": [
    "# Analisis data"
   ]
  },
  {
   "cell_type": "markdown",
   "metadata": {},
   "source": [
    "<b><h4>melihat 5 data teratas</h4></b>"
   ]
  },
  {
   "cell_type": "code",
   "execution_count": 197,
   "metadata": {},
   "outputs": [
    {
     "data": {
      "text/html": [
       "<div>\n",
       "<style scoped>\n",
       "    .dataframe tbody tr th:only-of-type {\n",
       "        vertical-align: middle;\n",
       "    }\n",
       "\n",
       "    .dataframe tbody tr th {\n",
       "        vertical-align: top;\n",
       "    }\n",
       "\n",
       "    .dataframe thead th {\n",
       "        text-align: right;\n",
       "    }\n",
       "</style>\n",
       "<table border=\"1\" class=\"dataframe\">\n",
       "  <thead>\n",
       "    <tr style=\"text-align: right;\">\n",
       "      <th></th>\n",
       "      <th>COUGH</th>\n",
       "      <th>MUSCLE_ACHES</th>\n",
       "      <th>TIREDNESS</th>\n",
       "      <th>SORE_THROAT</th>\n",
       "      <th>RUNNY_NOSE</th>\n",
       "      <th>STUFFY_NOSE</th>\n",
       "      <th>FEVER</th>\n",
       "      <th>NAUSEA</th>\n",
       "      <th>VOMITING</th>\n",
       "      <th>DIARRHEA</th>\n",
       "      <th>...</th>\n",
       "      <th>DIFFICULTY_BREATHING</th>\n",
       "      <th>LOSS_OF_TASTE</th>\n",
       "      <th>LOSS_OF_SMELL</th>\n",
       "      <th>ITCHY_NOSE</th>\n",
       "      <th>ITCHY_EYES</th>\n",
       "      <th>ITCHY_MOUTH</th>\n",
       "      <th>ITCHY_INNER_EAR</th>\n",
       "      <th>SNEEZING</th>\n",
       "      <th>PINK_EYE</th>\n",
       "      <th>TYPE</th>\n",
       "    </tr>\n",
       "  </thead>\n",
       "  <tbody>\n",
       "    <tr>\n",
       "      <th>0</th>\n",
       "      <td>0</td>\n",
       "      <td>0</td>\n",
       "      <td>1</td>\n",
       "      <td>0</td>\n",
       "      <td>1</td>\n",
       "      <td>0</td>\n",
       "      <td>0</td>\n",
       "      <td>0</td>\n",
       "      <td>0</td>\n",
       "      <td>0</td>\n",
       "      <td>...</td>\n",
       "      <td>0</td>\n",
       "      <td>1</td>\n",
       "      <td>0</td>\n",
       "      <td>1</td>\n",
       "      <td>0</td>\n",
       "      <td>0</td>\n",
       "      <td>1</td>\n",
       "      <td>0</td>\n",
       "      <td>1</td>\n",
       "      <td>ALLERGY</td>\n",
       "    </tr>\n",
       "    <tr>\n",
       "      <th>1</th>\n",
       "      <td>0</td>\n",
       "      <td>0</td>\n",
       "      <td>1</td>\n",
       "      <td>0</td>\n",
       "      <td>0</td>\n",
       "      <td>0</td>\n",
       "      <td>0</td>\n",
       "      <td>0</td>\n",
       "      <td>0</td>\n",
       "      <td>0</td>\n",
       "      <td>...</td>\n",
       "      <td>0</td>\n",
       "      <td>1</td>\n",
       "      <td>0</td>\n",
       "      <td>1</td>\n",
       "      <td>0</td>\n",
       "      <td>1</td>\n",
       "      <td>1</td>\n",
       "      <td>1</td>\n",
       "      <td>1</td>\n",
       "      <td>ALLERGY</td>\n",
       "    </tr>\n",
       "    <tr>\n",
       "      <th>2</th>\n",
       "      <td>0</td>\n",
       "      <td>1</td>\n",
       "      <td>1</td>\n",
       "      <td>1</td>\n",
       "      <td>0</td>\n",
       "      <td>0</td>\n",
       "      <td>0</td>\n",
       "      <td>0</td>\n",
       "      <td>0</td>\n",
       "      <td>0</td>\n",
       "      <td>...</td>\n",
       "      <td>0</td>\n",
       "      <td>1</td>\n",
       "      <td>0</td>\n",
       "      <td>1</td>\n",
       "      <td>0</td>\n",
       "      <td>0</td>\n",
       "      <td>0</td>\n",
       "      <td>0</td>\n",
       "      <td>1</td>\n",
       "      <td>ALLERGY</td>\n",
       "    </tr>\n",
       "    <tr>\n",
       "      <th>3</th>\n",
       "      <td>0</td>\n",
       "      <td>0</td>\n",
       "      <td>0</td>\n",
       "      <td>1</td>\n",
       "      <td>1</td>\n",
       "      <td>0</td>\n",
       "      <td>0</td>\n",
       "      <td>0</td>\n",
       "      <td>0</td>\n",
       "      <td>0</td>\n",
       "      <td>...</td>\n",
       "      <td>0</td>\n",
       "      <td>1</td>\n",
       "      <td>1</td>\n",
       "      <td>0</td>\n",
       "      <td>0</td>\n",
       "      <td>1</td>\n",
       "      <td>0</td>\n",
       "      <td>1</td>\n",
       "      <td>1</td>\n",
       "      <td>ALLERGY</td>\n",
       "    </tr>\n",
       "    <tr>\n",
       "      <th>4</th>\n",
       "      <td>0</td>\n",
       "      <td>0</td>\n",
       "      <td>1</td>\n",
       "      <td>0</td>\n",
       "      <td>1</td>\n",
       "      <td>0</td>\n",
       "      <td>0</td>\n",
       "      <td>0</td>\n",
       "      <td>0</td>\n",
       "      <td>0</td>\n",
       "      <td>...</td>\n",
       "      <td>0</td>\n",
       "      <td>1</td>\n",
       "      <td>1</td>\n",
       "      <td>0</td>\n",
       "      <td>1</td>\n",
       "      <td>0</td>\n",
       "      <td>1</td>\n",
       "      <td>1</td>\n",
       "      <td>1</td>\n",
       "      <td>ALLERGY</td>\n",
       "    </tr>\n",
       "  </tbody>\n",
       "</table>\n",
       "<p>5 rows × 21 columns</p>\n",
       "</div>"
      ],
      "text/plain": [
       "   COUGH  MUSCLE_ACHES  TIREDNESS  SORE_THROAT  RUNNY_NOSE  STUFFY_NOSE  \\\n",
       "0      0             0          1            0           1            0   \n",
       "1      0             0          1            0           0            0   \n",
       "2      0             1          1            1           0            0   \n",
       "3      0             0          0            1           1            0   \n",
       "4      0             0          1            0           1            0   \n",
       "\n",
       "   FEVER  NAUSEA  VOMITING  DIARRHEA  ...  DIFFICULTY_BREATHING  \\\n",
       "0      0       0         0         0  ...                     0   \n",
       "1      0       0         0         0  ...                     0   \n",
       "2      0       0         0         0  ...                     0   \n",
       "3      0       0         0         0  ...                     0   \n",
       "4      0       0         0         0  ...                     0   \n",
       "\n",
       "   LOSS_OF_TASTE  LOSS_OF_SMELL  ITCHY_NOSE  ITCHY_EYES  ITCHY_MOUTH  \\\n",
       "0              1              0           1           0            0   \n",
       "1              1              0           1           0            1   \n",
       "2              1              0           1           0            0   \n",
       "3              1              1           0           0            1   \n",
       "4              1              1           0           1            0   \n",
       "\n",
       "   ITCHY_INNER_EAR  SNEEZING  PINK_EYE     TYPE  \n",
       "0                1         0         1  ALLERGY  \n",
       "1                1         1         1  ALLERGY  \n",
       "2                0         0         1  ALLERGY  \n",
       "3                0         1         1  ALLERGY  \n",
       "4                1         1         1  ALLERGY  \n",
       "\n",
       "[5 rows x 21 columns]"
      ]
     },
     "execution_count": 197,
     "metadata": {},
     "output_type": "execute_result"
    }
   ],
   "source": [
    "df.head()"
   ]
  },
  {
   "cell_type": "markdown",
   "metadata": {},
   "source": [
    "<b><h4>Mengecheck nilai null</h4></b>"
   ]
  },
  {
   "cell_type": "code",
   "execution_count": 198,
   "metadata": {},
   "outputs": [
    {
     "data": {
      "text/plain": [
       "0        False\n",
       "1        False\n",
       "2        False\n",
       "3        False\n",
       "4        False\n",
       "         ...  \n",
       "44448    False\n",
       "44449    False\n",
       "44450    False\n",
       "44451    False\n",
       "44452    False\n",
       "Length: 44453, dtype: bool"
      ]
     },
     "execution_count": 198,
     "metadata": {},
     "output_type": "execute_result"
    }
   ],
   "source": [
    "df.duplicated()"
   ]
  },
  {
   "cell_type": "markdown",
   "metadata": {},
   "source": [
    "<b><h4>Melihat informasi pada dataset</h4></b>"
   ]
  },
  {
   "cell_type": "code",
   "execution_count": 199,
   "metadata": {},
   "outputs": [
    {
     "name": "stdout",
     "output_type": "stream",
     "text": [
      "<class 'pandas.core.frame.DataFrame'>\n",
      "RangeIndex: 44453 entries, 0 to 44452\n",
      "Data columns (total 21 columns):\n",
      " #   Column                Non-Null Count  Dtype \n",
      "---  ------                --------------  ----- \n",
      " 0   COUGH                 44453 non-null  int64 \n",
      " 1   MUSCLE_ACHES          44453 non-null  int64 \n",
      " 2   TIREDNESS             44453 non-null  int64 \n",
      " 3   SORE_THROAT           44453 non-null  int64 \n",
      " 4   RUNNY_NOSE            44453 non-null  int64 \n",
      " 5   STUFFY_NOSE           44453 non-null  int64 \n",
      " 6   FEVER                 44453 non-null  int64 \n",
      " 7   NAUSEA                44453 non-null  int64 \n",
      " 8   VOMITING              44453 non-null  int64 \n",
      " 9   DIARRHEA              44453 non-null  int64 \n",
      " 10  SHORTNESS_OF_BREATH   44453 non-null  int64 \n",
      " 11  DIFFICULTY_BREATHING  44453 non-null  int64 \n",
      " 12  LOSS_OF_TASTE         44453 non-null  int64 \n",
      " 13  LOSS_OF_SMELL         44453 non-null  int64 \n",
      " 14  ITCHY_NOSE            44453 non-null  int64 \n",
      " 15  ITCHY_EYES            44453 non-null  int64 \n",
      " 16  ITCHY_MOUTH           44453 non-null  int64 \n",
      " 17  ITCHY_INNER_EAR       44453 non-null  int64 \n",
      " 18  SNEEZING              44453 non-null  int64 \n",
      " 19  PINK_EYE              44453 non-null  int64 \n",
      " 20  TYPE                  44453 non-null  object\n",
      "dtypes: int64(20), object(1)\n",
      "memory usage: 7.1+ MB\n"
     ]
    }
   ],
   "source": [
    "df.info()"
   ]
  },
  {
   "cell_type": "markdown",
   "metadata": {},
   "source": [
    "# Split dataset"
   ]
  },
  {
   "cell_type": "code",
   "execution_count": 200,
   "metadata": {},
   "outputs": [],
   "source": [
    "from sklearn.model_selection import train_test_split"
   ]
  },
  {
   "cell_type": "markdown",
   "metadata": {},
   "source": [
    "<b><h3>Encoding</h3></b>"
   ]
  },
  {
   "cell_type": "code",
   "execution_count": 201,
   "metadata": {},
   "outputs": [],
   "source": [
    "df['TYPE'] = df['TYPE'].map({'ALLERGY': 1, 'COLD': 0, 'COVID':0, 'FLU':0})"
   ]
  },
  {
   "cell_type": "markdown",
   "metadata": {},
   "source": [
    "mengubah nilai attribut TYPE menggunakan encoding"
   ]
  },
  {
   "cell_type": "markdown",
   "metadata": {},
   "source": [
    "<b><h3>Spliting dataset</h3></b>"
   ]
  },
  {
   "cell_type": "code",
   "execution_count": 202,
   "metadata": {},
   "outputs": [],
   "source": [
    "\n",
    "X = df.drop('TYPE', axis=1)\n",
    "y = df['TYPE']\n",
    "\n",
    "X_train, X_test, y_train, y_test = train_test_split(X, y, test_size=0.2, random_state=42)"
   ]
  },
  {
   "cell_type": "markdown",
   "metadata": {},
   "source": [
    "melakukan split dataset menjadi train dan test set dengan perbandingan 80:20"
   ]
  },
  {
   "cell_type": "markdown",
   "metadata": {},
   "source": [
    "# Preprocessing data"
   ]
  },
  {
   "cell_type": "markdown",
   "metadata": {},
   "source": [
    "<b><h3>Import library yang akan digunakan untuk Preprocessing data</h3></b>"
   ]
  },
  {
   "cell_type": "code",
   "execution_count": 203,
   "metadata": {},
   "outputs": [],
   "source": [
    "import numpy as np\n",
    "from sklearn.preprocessing import StandardScaler\n",
    "from scipy import stats"
   ]
  },
  {
   "cell_type": "markdown",
   "metadata": {},
   "source": [
    "<b><h4>Menghapus outlier</h4></b>"
   ]
  },
  {
   "cell_type": "code",
   "execution_count": 204,
   "metadata": {},
   "outputs": [],
   "source": [
    "z_scores = np.abs(stats.zscore(df.select_dtypes(include=[np.number])))\n",
    "df = df[(z_scores < 3).all(axis=1)]"
   ]
  },
  {
   "cell_type": "markdown",
   "metadata": {},
   "source": [
    "<b><h4>Normalisasi dan Scaling</h4></b>"
   ]
  },
  {
   "cell_type": "code",
   "execution_count": 205,
   "metadata": {},
   "outputs": [],
   "source": [
    "scaler = StandardScaler()\n",
    "numeric_cols = df.select_dtypes(include=[np.number]).columns\n",
    "df[numeric_cols] = scaler.fit_transform(df[numeric_cols])"
   ]
  },
  {
   "cell_type": "markdown",
   "metadata": {},
   "source": [
    "# Sequential model"
   ]
  },
  {
   "cell_type": "code",
   "execution_count": 206,
   "metadata": {},
   "outputs": [],
   "source": [
    "from keras import Sequential\n",
    "from keras.layers import Dense\n",
    "from keras.layers import Dropout\n",
    "from tensorflow import keras\n",
    "from tensorflow.keras import layers"
   ]
  },
  {
   "cell_type": "code",
   "execution_count": 207,
   "metadata": {},
   "outputs": [],
   "source": [
    "model = Sequential()\n",
    "\n",
    "model = keras.Sequential([\n",
    "    layers.Input(shape=(X_train.shape[1],)),\n",
    "    layers.Dense(units=64, activation='relu'),\n",
    "    layers.Dense(units=32, activation='relu'),\n",
    "    layers.Dense(units=1, activation='sigmoid')\n",
    "])"
   ]
  },
  {
   "cell_type": "markdown",
   "metadata": {},
   "source": [
    "<b><h3>Compile model</h3></b>"
   ]
  },
  {
   "cell_type": "code",
   "execution_count": 208,
   "metadata": {},
   "outputs": [],
   "source": [
    "model.compile(\n",
    "    optimizer='adam',\n",
    "    loss='mean_squared_error',\n",
    "    metrics=['mae']\n",
    ")"
   ]
  },
  {
   "cell_type": "markdown",
   "metadata": {},
   "source": [
    "# Menggunakan fungsi Callback"
   ]
  },
  {
   "cell_type": "code",
   "execution_count": 209,
   "metadata": {},
   "outputs": [],
   "source": [
    "from keras.callbacks import EarlyStopping, ModelCheckpoint\n",
    "\n",
    "# Menghentikan pelatihan jika val_loss tidak membaik dalam 10 epochs\n",
    "early_stopping = EarlyStopping(monitor='val_loss', patience=10, restore_best_weights=True)\n",
    "\n",
    "# Menyimpan model terbaik selama pelatihan\n",
    "model_checkpoint = ModelCheckpoint('best_model.h5', save_best_only=True, save_weights_only=True)\n",
    "\n",
    "# Mendefinisikan daftar callback\n",
    "callback_list = [early_stopping, model_checkpoint]"
   ]
  },
  {
   "cell_type": "markdown",
   "metadata": {},
   "source": [
    "<b><h3>Melatih model</h3></b>"
   ]
  },
  {
   "cell_type": "code",
   "execution_count": 210,
   "metadata": {},
   "outputs": [
    {
     "name": "stdout",
     "output_type": "stream",
     "text": [
      "Epoch 1/50\n"
     ]
    },
    {
     "name": "stdout",
     "output_type": "stream",
     "text": [
      "1112/1112 [==============================] - 7s 5ms/step - loss: 0.0158 - mae: 0.0452 - val_loss: 0.0072 - val_mae: 0.0173\n",
      "Epoch 2/50\n",
      "1112/1112 [==============================] - 5s 5ms/step - loss: 0.0076 - mae: 0.0168 - val_loss: 0.0076 - val_mae: 0.0151\n",
      "Epoch 3/50\n",
      "1112/1112 [==============================] - 5s 4ms/step - loss: 0.0075 - mae: 0.0163 - val_loss: 0.0078 - val_mae: 0.0146\n",
      "Epoch 4/50\n",
      "1112/1112 [==============================] - 4s 4ms/step - loss: 0.0073 - mae: 0.0158 - val_loss: 0.0074 - val_mae: 0.0156\n",
      "Epoch 5/50\n",
      "1112/1112 [==============================] - 6s 5ms/step - loss: 0.0074 - mae: 0.0160 - val_loss: 0.0068 - val_mae: 0.0149\n",
      "Epoch 6/50\n",
      "1112/1112 [==============================] - 5s 4ms/step - loss: 0.0072 - mae: 0.0156 - val_loss: 0.0069 - val_mae: 0.0140\n",
      "Epoch 7/50\n",
      "1112/1112 [==============================] - 4s 4ms/step - loss: 0.0073 - mae: 0.0153 - val_loss: 0.0067 - val_mae: 0.0137\n",
      "Epoch 8/50\n",
      "1112/1112 [==============================] - 4s 3ms/step - loss: 0.0071 - mae: 0.0149 - val_loss: 0.0069 - val_mae: 0.0132\n",
      "Epoch 9/50\n",
      "1112/1112 [==============================] - 4s 4ms/step - loss: 0.0071 - mae: 0.0147 - val_loss: 0.0066 - val_mae: 0.0132\n",
      "Epoch 10/50\n",
      "1112/1112 [==============================] - 5s 5ms/step - loss: 0.0071 - mae: 0.0144 - val_loss: 0.0065 - val_mae: 0.0132\n",
      "Epoch 11/50\n",
      "1112/1112 [==============================] - 5s 4ms/step - loss: 0.0070 - mae: 0.0143 - val_loss: 0.0066 - val_mae: 0.0129\n",
      "Epoch 12/50\n",
      "1112/1112 [==============================] - 4s 4ms/step - loss: 0.0070 - mae: 0.0141 - val_loss: 0.0065 - val_mae: 0.0132\n",
      "Epoch 13/50\n",
      "1112/1112 [==============================] - 4s 4ms/step - loss: 0.0070 - mae: 0.0142 - val_loss: 0.0065 - val_mae: 0.0127\n",
      "Epoch 14/50\n",
      "1112/1112 [==============================] - 5s 4ms/step - loss: 0.0069 - mae: 0.0140 - val_loss: 0.0066 - val_mae: 0.0124\n",
      "Epoch 15/50\n",
      "1112/1112 [==============================] - 5s 4ms/step - loss: 0.0069 - mae: 0.0140 - val_loss: 0.0066 - val_mae: 0.0123\n",
      "Epoch 16/50\n",
      "1112/1112 [==============================] - 4s 4ms/step - loss: 0.0069 - mae: 0.0138 - val_loss: 0.0065 - val_mae: 0.0127\n",
      "Epoch 17/50\n",
      "1112/1112 [==============================] - 5s 4ms/step - loss: 0.0069 - mae: 0.0139 - val_loss: 0.0065 - val_mae: 0.0128\n",
      "Epoch 18/50\n",
      "1112/1112 [==============================] - 5s 5ms/step - loss: 0.0069 - mae: 0.0138 - val_loss: 0.0065 - val_mae: 0.0127\n",
      "Epoch 19/50\n",
      "1112/1112 [==============================] - 5s 4ms/step - loss: 0.0069 - mae: 0.0139 - val_loss: 0.0066 - val_mae: 0.0128\n",
      "Epoch 20/50\n",
      "1112/1112 [==============================] - 5s 4ms/step - loss: 0.0069 - mae: 0.0138 - val_loss: 0.0065 - val_mae: 0.0128\n",
      "Epoch 21/50\n",
      "1112/1112 [==============================] - 5s 4ms/step - loss: 0.0069 - mae: 0.0139 - val_loss: 0.0067 - val_mae: 0.0123\n",
      "Epoch 22/50\n",
      "1112/1112 [==============================] - 5s 4ms/step - loss: 0.0069 - mae: 0.0137 - val_loss: 0.0065 - val_mae: 0.0127\n",
      "Epoch 23/50\n",
      "1112/1112 [==============================] - 5s 4ms/step - loss: 0.0069 - mae: 0.0138 - val_loss: 0.0065 - val_mae: 0.0127\n",
      "Epoch 24/50\n",
      "1112/1112 [==============================] - 5s 5ms/step - loss: 0.0069 - mae: 0.0138 - val_loss: 0.0067 - val_mae: 0.0124\n",
      "Epoch 25/50\n",
      "1112/1112 [==============================] - 5s 5ms/step - loss: 0.0069 - mae: 0.0136 - val_loss: 0.0066 - val_mae: 0.0128\n",
      "Epoch 26/50\n",
      "1112/1112 [==============================] - 5s 5ms/step - loss: 0.0069 - mae: 0.0138 - val_loss: 0.0067 - val_mae: 0.0125\n"
     ]
    }
   ],
   "source": [
    "history = model.fit(X_train, y_train, epochs=50, batch_size=32, validation_data=(X_test, y_test), callbacks=callback_list , verbose=1)"
   ]
  },
  {
   "cell_type": "markdown",
   "metadata": {},
   "source": [
    "# Evaluasi model"
   ]
  },
  {
   "cell_type": "markdown",
   "metadata": {},
   "source": [
    "<b><h3>Evaluasi model menggunakan mae, mse, rmse, dan R2 score</h3></b>"
   ]
  },
  {
   "cell_type": "code",
   "execution_count": 211,
   "metadata": {},
   "outputs": [],
   "source": [
    "from sklearn.metrics import mean_absolute_error, mean_squared_error, r2_score"
   ]
  },
  {
   "cell_type": "code",
   "execution_count": 212,
   "metadata": {},
   "outputs": [
    {
     "name": "stdout",
     "output_type": "stream",
     "text": [
      "278/278 [==============================] - 1s 3ms/step\n",
      "MAE: 0.01268768170727284\n",
      "MSE: 0.006472095434479511\n",
      "RMSE: 0.08044933458071304\n",
      "R2 Score: 0.972287625595421\n"
     ]
    }
   ],
   "source": [
    "y_pred = model.predict(X_test)\n",
    "\n",
    "mae = mean_absolute_error(y_test, y_pred)\n",
    "mse = mean_squared_error(y_test, y_pred)\n",
    "rmse = np.sqrt(mse)\n",
    "\n",
    "r2 = r2_score(y_test, y_pred)\n",
    "\n",
    "print(f\"MAE: {mae}\")\n",
    "print(f\"MSE: {mse}\")\n",
    "print(f\"RMSE: {rmse}\")\n",
    "print(f\"R2 Score: {r2}\")"
   ]
  },
  {
   "cell_type": "markdown",
   "metadata": {},
   "source": [
    "# Grafik yang menampilkan pergerakan metrik dan loss terhadap epoch"
   ]
  },
  {
   "cell_type": "markdown",
   "metadata": {},
   "source": [
    "<b><h3>Plot MAE (Mean Absolute Error)</h3></b>"
   ]
  },
  {
   "cell_type": "code",
   "execution_count": 213,
   "metadata": {},
   "outputs": [
    {
     "data": {
      "image/png": "[encoded data removed]",
      "text/plain": [
       "<Figure size 2500x1000 with 1 Axes>"
      ]
     },
     "metadata": {},
     "output_type": "display_data"
    }
   ],
   "source": [
    "plt.figure(figsize=(25, 10))\n",
    "plt.subplot(1, 2, 1)\n",
    "plt.plot(history.history['mae'], label='Training MAE')\n",
    "plt.plot(history.history['val_mae'], label='Validation MAE')\n",
    "plt.xlabel('Epochs')\n",
    "plt.ylabel('MAE')\n",
    "plt.legend()\n",
    "plt.show()"
   ]
  },
  {
   "cell_type": "markdown",
   "metadata": {},
   "source": [
    "<b><h3>Plot Loss</h3></b>"
   ]
  },
  {
   "cell_type": "code",
   "execution_count": 214,
   "metadata": {},
   "outputs": [
    {
     "data": {
      "image/png": "[encoded data removed]",
      "text/plain": [
       "<Figure size 2500x1000 with 1 Axes>"
      ]
     },
     "metadata": {},
     "output_type": "display_data"
    }
   ],
   "source": [
    "plt.figure(figsize=(25, 10))\n",
    "plt.subplot(1, 2, 1)\n",
    "plt.plot(history.history['loss'], label='Training Loss')\n",
    "plt.plot(history.history['val_loss'], label='Validation Loss')\n",
    "plt.xlabel('Epochs')\n",
    "plt.ylabel('Loss')\n",
    "plt.legend()\n",
    "plt.show()"
   ]
  }
 ],
 "metadata": {
  "kernelspec": {
   "display_name": "Python 3",
   "language": "python",
   "name": "python3"
  },
  "language_info": {
   "codemirror_mode": {
    "name": "ipython",
    "version": 3
   },
   "file_extension": ".py",
   "mimetype": "text/x-python",
   "name": "python",
   "nbconvert_exporter": "python",
   "pygments_lexer": "ipython3",
   "version": "3.10.7"
  }
 },
 "nbformat": 4,
 "nbformat_minor": 2
}
